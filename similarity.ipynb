{
 "cells": [
  {
   "cell_type": "code",
   "execution_count": 1,
   "metadata": {},
   "outputs": [],
   "source": [
    "import numpy as np\n",
    "import pandas as pd\n",
    "import warnings\n",
    "\n",
    "warnings.filterwarnings('ignore')"
   ]
  },
  {
   "cell_type": "code",
   "execution_count": 7,
   "metadata": {},
   "outputs": [
    {
     "name": "stdout",
     "output_type": "stream",
     "text": [
      "Starting...\n",
      "Load complete..\n",
      "Prep complete.\n",
      "Start Recommendation\n",
      "Pivot complete..\n",
      "Starting corr\n",
      "Corr complete..\n",
      "No movie to recommend\n"
     ]
    }
   ],
   "source": [
    "def load_data(movie_path, rating_path):\n",
    "\n",
    "    movie = pd.read_csv(movie_path)\n",
    "    rating = pd.read_csv(rating_path)\n",
    "    movie = movie.drop_duplicates()\n",
    "    rating = rating.drop_duplicates()\n",
    "    return movie, rating\n",
    "\n",
    "def data_prep(movie_data, rating_data):\n",
    "\n",
    "    data = rating_data.merge(movie_data, on = 'movieId', how = 'inner')\n",
    "    group_df = data.groupby(['movieId']).count()\n",
    "    idx = group_df[group_df.userId > 1000].index.to_list()\n",
    "    data = data[data['movieId'].isin(idx)]\n",
    "    return data\n",
    "\n",
    "\n",
    "def recommendation_engine(data,  user_id, rating, movie):\n",
    "    print('Start Recommendation')\n",
    "\n",
    "    data_pivot_table = data.pivot_table(index='userId', columns= 'title', values='rating')\n",
    "    print('Pivot complete..')\n",
    "\n",
    "    try:\n",
    "    # random_user = int(pd.Series(data_pivot_table.index).sample(1, random_state=555).values)\n",
    "        user_df = data_pivot_table[data_pivot_table.index == user_id]\n",
    "        user_watched_movie = user_df.columns[[user_df.notna().any()]].to_list()\n",
    "\n",
    "        movies_watched_df = data_pivot_table[user_watched_movie]\n",
    "        users_movie_count = movies_watched_df.T.notnull().sum().reset_index()\n",
    "        users_movie_count.columns = [\"userId\", \"movie_count\"]\n",
    "        mean_value = np.percentile(users_movie_count['movie_count'],95)\n",
    "        movie_ids = users_movie_count[users_movie_count['movie_count'] > mean_value]['userId'].values.tolist()\n",
    "        new_df = movies_watched_df[movies_watched_df.index.isin(movie_ids)]\n",
    "        print('Starting corr')\n",
    "        corr_df = new_df.T.corr().unstack().sort_values().drop_duplicates()\n",
    "        print('Corr complete..')\n",
    "\n",
    "        corr_df = pd.DataFrame(corr_df, columns=[\"corr\"])\n",
    "        corr_df.index.names = ['random_user', 'other_users']\n",
    "        corr_df.reset_index(inplace=True)\n",
    "        \n",
    "        mean_value = np.percentile((corr_df['corr']),75)\n",
    "        top_users = corr_df[(corr_df['random_user']==user_id)&(corr_df['corr']>=mean_value)]\n",
    "        top_users = top_users.loc[:, ['other_users','corr']].rename(columns={\"other_users\": \"userId\"})\n",
    "        top_users.reset_index(inplace=True, drop=True)\n",
    "        try:\n",
    "            top_users_ratings = top_users.merge(rating, how='inner', on='userId')\n",
    "            top_users_ratings['weighted_rating'] = top_users_ratings['corr'] * top_users_ratings['rating']\n",
    "            recommendation_df = top_users_ratings.groupby('movieId')[['weighted_rating']].mean().reset_index()\n",
    "            mean_value = np.percentile(recommendation_df['weighted_rating'],95)\n",
    "            print(recommendation_df.shape, mean_value)\n",
    "            final_recommendation_df=recommendation_df[recommendation_df['weighted_rating']>mean_value].sort_values(by='weighted_rating', ascending=False)\n",
    "            recommendation = final_recommendation_df.merge(movie[[\"movieId\", \"title\"]])[:5]\n",
    "            titles = recommendation['title'].tolist()\n",
    "        # movies_watched_df = data_pivot_table[user_watched_movie]\n",
    "        # users_movie_count = movies_watched_df.T.notnull().sum().reset_index()\n",
    "        # users_movie_count.columns = [\"userId\", \"movie_count\"]\n",
    "       \n",
    "        # movie_ids = users_movie_count[users_movie_count['movie_count'] > 20]['userId'].values.tolist()\n",
    "        # new_df = movies_watched_df[movies_watched_df.index.isin(movie_ids)]\n",
    "\n",
    "        # corr_df = new_df.T.corr().unstack().sort_values().drop_duplicates()\n",
    "        # corr_df = pd.DataFrame(corr_df, columns=[\"corr\"])\n",
    "        # corr_df.index.names = ['random_user', 'other_users'].reset_index(inplace=True)\n",
    "            print('working')\n",
    "        # top_users = corr_df[(corr_df['random_user']==user_id)&(corr_df['corr']>=0.8)]\n",
    "        # top_users = top_users.loc[:, ['other_users','corr']].rename(columns={\"other_users\": \"userId\"})\n",
    "        # top_users = top_users.reset_index(inplace=True, drop=True)\n",
    "            print('working')\n",
    "        # top_users_ratings = top_users.merge(rating, how='inner', on='userId')\n",
    "        # top_users_ratings['weighted_rating'] = top_users_ratings['corr'] * top_users_ratings['rating']\n",
    "        # recommendation_df = top_users_ratings.groupby('movieId')[['weighted_rating']].mean().reset_index()\n",
    "            print('working')\n",
    "        # final_recommendation_df=recommendation_df[recommendation_df['weighted_rating']>3.5].sort_values(by='weighted_rating', ascending=False)\n",
    "        # recommendation = final_recommendation_df.merge(movie[[\"movieId\", \"title\"]])[:5]\n",
    "        # titles = recommendation['title'].tolist()\n",
    "            return titles\n",
    "        except:\n",
    "            print('No movie to recommend')\n",
    "\n",
    "    except KeyError:\n",
    "        print(f'No user with {user_id} id in database')\n",
    "    except:\n",
    "        print('Unknown error has occured')\n",
    "    \n",
    "\n",
    "def pipeline(movie_path, rating_path,user_id):\n",
    "    print('Starting...')\n",
    "    movie_data, rating_data = load_data(movie_path, rating_path)\n",
    "    print('Load complete..')\n",
    "    full_df = data_prep(movie_data, rating_data)\n",
    "    print('Prep complete.')\n",
    "    recommendation = recommendation_engine(full_df,  user_id, rating_data, movie_data)\n",
    "\n",
    "    return recommendation\n",
    "    \n",
    "\n",
    "\n",
    "\n",
    "data_dir = './Data/archive (1)/'\n",
    "# gen_scores = pd.read_csv(data_dir + 'genome_scores.csv')\n",
    "# gen_tags = pd.read_csv(data_dir + 'genome_tags.csv')\n",
    "# link = pd.read_csv(data_dir + 'link.csv')\n",
    "# movie = pd.read_csv(data_dir + 'movie.csv')\n",
    "# rating = pd.read_csv(data_dir + 'rating.csv')\n",
    "# movie = movie.drop_duplicates()\n",
    "# rating = rating.drop_duplicates()\n",
    "# tag = pd.read_csv(data_dir + 'tag.csv')\n",
    "#tag[['userId','movieId', 'tag']].groupby(['tag']).count().sort_values('userId', ascending = False)\n",
    "\n",
    "rating_path = data_dir + 'rating.csv'\n",
    "movie_path = data_dir + 'movie.csv'\n",
    "\n",
    "#movie, rating = load_data(movie_path, rating_path)\n",
    "pipeline(movie_path,rating_path, 500 )"
   ]
  },
  {
   "cell_type": "code",
   "execution_count": 3,
   "metadata": {},
   "outputs": [],
   "source": [
    "data = data_prep(movie, rating)"
   ]
  },
  {
   "cell_type": "code",
   "execution_count": 4,
   "metadata": {},
   "outputs": [],
   "source": [
    "data_pivot_table = data.pivot_table(index='userId', columns= 'title', values='rating')\n",
    "\n",
    "#try:\n",
    "# random_user = int(pd.Series(data_pivot_table.index).sample(1, random_state=555).values)\n",
    "user_df = data_pivot_table[data_pivot_table.index == 200]\n",
    "user_watched_movie = user_df.columns[[user_df.notna().any()]].to_list()"
   ]
  },
  {
   "cell_type": "code",
   "execution_count": 47,
   "metadata": {},
   "outputs": [],
   "source": [
    "movies_watched_df = data_pivot_table[user_watched_movie]\n",
    "users_movie_count = movies_watched_df.T.notnull().sum().reset_index()\n",
    "users_movie_count.columns = [\"userId\", \"movie_count\"]\n",
    "mean_value = np.percentile(users_movie_count['movie_count'],95)\n",
    "movie_ids = users_movie_count[users_movie_count['movie_count'] > mean_value]['userId'].values.tolist()\n",
    "new_df = movies_watched_df[movies_watched_df.index.isin(movie_ids)]\n",
    "corr_df = new_df.T.corr().unstack().sort_values().drop_duplicates()"
   ]
  },
  {
   "cell_type": "code",
   "execution_count": 48,
   "metadata": {},
   "outputs": [],
   "source": [
    "corr_df = pd.DataFrame(corr_df, columns=[\"corr\"])\n",
    "corr_df.index.names = ['random_user', 'other_users']\n",
    "corr_df.reset_index(inplace=True)"
   ]
  },
  {
   "cell_type": "code",
   "execution_count": 64,
   "metadata": {},
   "outputs": [
    {
     "data": {
      "text/plain": [
       "['Syriana (2005)',\n",
       " 'Lost and Delirious (2001)',\n",
       " 'Guardians of the Galaxy (2014)',\n",
       " 'Megamind (2010)',\n",
       " 'Warriors, The (1979)']"
      ]
     },
     "execution_count": 64,
     "metadata": {},
     "output_type": "execute_result"
    }
   ],
   "source": [
    "top_users = corr_df[(corr_df['random_user']==200)&(corr_df['corr']>=0.6)]\n",
    "top_users = top_users.loc[:, ['other_users','corr']].rename(columns={\"other_users\": \"userId\"})\n",
    "top_users.reset_index(inplace=True, drop=True)\n",
    "top_users_ratings = top_users.merge(rating, how='inner', on='userId')\n",
    "top_users_ratings['weighted_rating'] = top_users_ratings['corr'] * top_users_ratings['rating']\n",
    "recommendation_df = top_users_ratings.groupby('movieId')[['weighted_rating']].mean().reset_index()\n",
    "\n",
    "mean_value = np.percentile(recommendation_df['weighted_rating'],95)\n",
    "final_recommendation_df=recommendation_df[recommendation_df['weighted_rating']>mean_value].sort_values(by='weighted_rating', ascending=False)\n",
    "recommendation = final_recommendation_df.merge(movie[[\"movieId\", \"title\"]])[:5]\n",
    "titles = recommendation['title'].tolist()\n",
    "titles"
   ]
  },
  {
   "cell_type": "code",
   "execution_count": null,
   "metadata": {},
   "outputs": [],
   "source": []
  },
  {
   "cell_type": "code",
   "execution_count": 41,
   "metadata": {},
   "outputs": [
    {
     "ename": "AttributeError",
     "evalue": "'NoneType' object has no attribute 'merge'",
     "output_type": "error",
     "traceback": [
      "\u001b[1;31m---------------------------------------------------------------------------\u001b[0m",
      "\u001b[1;31mAttributeError\u001b[0m                            Traceback (most recent call last)",
      "\u001b[1;32m~\\AppData\\Local\\Temp\\ipykernel_8684\\3604145902.py\u001b[0m in \u001b[0;36m<module>\u001b[1;34m\u001b[0m\n\u001b[0;32m      3\u001b[0m \u001b[0mtop_users\u001b[0m \u001b[1;33m=\u001b[0m \u001b[0mtop_users\u001b[0m\u001b[1;33m.\u001b[0m\u001b[0mreset_index\u001b[0m\u001b[1;33m(\u001b[0m\u001b[0minplace\u001b[0m\u001b[1;33m=\u001b[0m\u001b[1;32mTrue\u001b[0m\u001b[1;33m,\u001b[0m \u001b[0mdrop\u001b[0m\u001b[1;33m=\u001b[0m\u001b[1;32mTrue\u001b[0m\u001b[1;33m)\u001b[0m\u001b[1;33m\u001b[0m\u001b[1;33m\u001b[0m\u001b[0m\n\u001b[0;32m      4\u001b[0m \u001b[1;33m\u001b[0m\u001b[0m\n\u001b[1;32m----> 5\u001b[1;33m \u001b[0mtop_users_ratings\u001b[0m \u001b[1;33m=\u001b[0m \u001b[0mtop_users\u001b[0m\u001b[1;33m.\u001b[0m\u001b[0mmerge\u001b[0m\u001b[1;33m(\u001b[0m\u001b[0mrating\u001b[0m\u001b[1;33m,\u001b[0m \u001b[0mhow\u001b[0m\u001b[1;33m=\u001b[0m\u001b[1;34m'inner'\u001b[0m\u001b[1;33m,\u001b[0m \u001b[0mon\u001b[0m\u001b[1;33m=\u001b[0m\u001b[1;34m'userId'\u001b[0m\u001b[1;33m)\u001b[0m\u001b[1;33m\u001b[0m\u001b[1;33m\u001b[0m\u001b[0m\n\u001b[0m\u001b[0;32m      6\u001b[0m \u001b[0mtop_users_ratings\u001b[0m\u001b[1;33m[\u001b[0m\u001b[1;34m'weighted_rating'\u001b[0m\u001b[1;33m]\u001b[0m \u001b[1;33m=\u001b[0m \u001b[0mtop_users_ratings\u001b[0m\u001b[1;33m[\u001b[0m\u001b[1;34m'corr'\u001b[0m\u001b[1;33m]\u001b[0m \u001b[1;33m*\u001b[0m \u001b[0mtop_users_ratings\u001b[0m\u001b[1;33m[\u001b[0m\u001b[1;34m'rating'\u001b[0m\u001b[1;33m]\u001b[0m\u001b[1;33m\u001b[0m\u001b[1;33m\u001b[0m\u001b[0m\n\u001b[0;32m      7\u001b[0m \u001b[0mrecommendation_df\u001b[0m \u001b[1;33m=\u001b[0m \u001b[0mtop_users_ratings\u001b[0m\u001b[1;33m.\u001b[0m\u001b[0mgroupby\u001b[0m\u001b[1;33m(\u001b[0m\u001b[1;34m'movieId'\u001b[0m\u001b[1;33m)\u001b[0m\u001b[1;33m[\u001b[0m\u001b[1;33m[\u001b[0m\u001b[1;34m'weighted_rating'\u001b[0m\u001b[1;33m]\u001b[0m\u001b[1;33m]\u001b[0m\u001b[1;33m.\u001b[0m\u001b[0mmean\u001b[0m\u001b[1;33m(\u001b[0m\u001b[1;33m)\u001b[0m\u001b[1;33m.\u001b[0m\u001b[0mreset_index\u001b[0m\u001b[1;33m(\u001b[0m\u001b[1;33m)\u001b[0m\u001b[1;33m\u001b[0m\u001b[1;33m\u001b[0m\u001b[0m\n",
      "\u001b[1;31mAttributeError\u001b[0m: 'NoneType' object has no attribute 'merge'"
     ]
    }
   ],
   "source": [
    "top_users = corr_df[(corr_df['random_user']==200)&(corr_df['corr']>=0.6)]\n",
    "top_users = top_users.loc[:, ['other_users','corr']].rename(columns={\"other_users\": \"userId\"})\n",
    "\n",
    "\n",
    "\n",
    "\n"
   ]
  },
  {
   "cell_type": "code",
   "execution_count": 3,
   "metadata": {},
   "outputs": [],
   "source": [
    "#rating.drop(['timestamp'], axis = 1, inplace = True)\n",
    "df = rating.merge(movie, on = 'movieId', how = 'inner')\n",
    "\n",
    "group_df = df.groupby(['movieId']).count()#.sort_values('userId', ascending = False)\n",
    "idx = group_df[group_df.userId > 1000].index.to_list()\n",
    "df2 = df[df['movieId'].isin(idx)]"
   ]
  },
  {
   "cell_type": "code",
   "execution_count": 4,
   "metadata": {},
   "outputs": [],
   "source": [
    "pt = df2.pivot_table(index='userId', columns= 'title', values='rating')\n",
    "\n",
    "random_user = int(pd.Series(pt.index).sample(1, random_state=555).values)\n",
    "user_df = pt[pt.index == random_user]\n",
    "user_watch_movie = user_df.columns[[user_df.notna().any()]].to_list()"
   ]
  },
  {
   "cell_type": "code",
   "execution_count": 5,
   "metadata": {},
   "outputs": [],
   "source": [
    "movies_watched_df = pt[user_watch_movie]\n",
    "user_movie_count = movies_watched_df.T.notnull().sum().reset_index()\n",
    "user_movie_count.columns = [\"userId\", \"movie_count\"]"
   ]
  },
  {
   "cell_type": "code",
   "execution_count": 6,
   "metadata": {},
   "outputs": [],
   "source": [
    "same_movie_id = user_movie_count[user_movie_count['movie_count'] > 20]['userId'].values.tolist()\n",
    "new_df = movies_watched_df[movies_watched_df.index.isin(same_movie_id)]"
   ]
  },
  {
   "cell_type": "code",
   "execution_count": 7,
   "metadata": {},
   "outputs": [],
   "source": [
    "corr_df = new_df.T.corr().unstack().sort_values().drop_duplicates()\n",
    "corr_df = pd.DataFrame(corr_df, columns=[\"corr\"])\n",
    "corr_df.index.names = ['random_user', 'other_users']\n",
    "corr_df.reset_index(inplace=True)"
   ]
  },
  {
   "cell_type": "code",
   "execution_count": 8,
   "metadata": {},
   "outputs": [],
   "source": [
    "top_users = corr_df[(corr_df['random_user']==random_user)&(corr_df['corr']>=0.8)]\n",
    "top_users = top_users.loc[:, ['other_users','corr']].rename(columns={\"other_users\": \"userId\"})\n",
    "top_users.reset_index(inplace=True, drop=True)\n",
    "# top_users"
   ]
  },
  {
   "cell_type": "code",
   "execution_count": 9,
   "metadata": {},
   "outputs": [],
   "source": [
    "top_users_ratings = top_users.merge(rating, how='inner', on='userId')\n",
    "top_users_ratings['weighted_rating'] = top_users_ratings['corr'] * top_users_ratings['rating']\n",
    "# top_users_ratings"
   ]
  },
  {
   "cell_type": "code",
   "execution_count": 10,
   "metadata": {},
   "outputs": [],
   "source": [
    "recommendation_df = top_users_ratings.groupby('movieId')[['weighted_rating']].mean().reset_index()\n",
    "# recommendation_df"
   ]
  },
  {
   "cell_type": "code",
   "execution_count": 11,
   "metadata": {},
   "outputs": [],
   "source": [
    "final_recommendation_df=recommendation_df[recommendation_df['weighted_rating']>3.5].sort_values(by='weighted_rating', ascending=False)\n",
    "final_recommendation_df.reset_index(drop=True,inplace=True)\n",
    "# final_recommendation_df.shape"
   ]
  },
  {
   "cell_type": "code",
   "execution_count": 12,
   "metadata": {},
   "outputs": [
    {
     "data": {
      "text/html": [
       "<div>\n",
       "<style scoped>\n",
       "    .dataframe tbody tr th:only-of-type {\n",
       "        vertical-align: middle;\n",
       "    }\n",
       "\n",
       "    .dataframe tbody tr th {\n",
       "        vertical-align: top;\n",
       "    }\n",
       "\n",
       "    .dataframe thead th {\n",
       "        text-align: right;\n",
       "    }\n",
       "</style>\n",
       "<table border=\"1\" class=\"dataframe\">\n",
       "  <thead>\n",
       "    <tr style=\"text-align: right;\">\n",
       "      <th></th>\n",
       "      <th>movieId</th>\n",
       "      <th>weighted_rating</th>\n",
       "      <th>title</th>\n",
       "    </tr>\n",
       "  </thead>\n",
       "  <tbody>\n",
       "    <tr>\n",
       "      <th>0</th>\n",
       "      <td>550</td>\n",
       "      <td>4.201677</td>\n",
       "      <td>Threesome (1994)</td>\n",
       "    </tr>\n",
       "    <tr>\n",
       "      <th>1</th>\n",
       "      <td>536</td>\n",
       "      <td>4.201677</td>\n",
       "      <td>Simple Twist of Fate, A (1994)</td>\n",
       "    </tr>\n",
       "    <tr>\n",
       "      <th>2</th>\n",
       "      <td>450</td>\n",
       "      <td>4.201677</td>\n",
       "      <td>With Honors (1994)</td>\n",
       "    </tr>\n",
       "    <tr>\n",
       "      <th>3</th>\n",
       "      <td>289</td>\n",
       "      <td>4.183177</td>\n",
       "      <td>Only You (1994)</td>\n",
       "    </tr>\n",
       "    <tr>\n",
       "      <th>4</th>\n",
       "      <td>249</td>\n",
       "      <td>4.165989</td>\n",
       "      <td>Immortal Beloved (1994)</td>\n",
       "    </tr>\n",
       "  </tbody>\n",
       "</table>\n",
       "</div>"
      ],
      "text/plain": [
       "   movieId  weighted_rating                           title\n",
       "0      550         4.201677                Threesome (1994)\n",
       "1      536         4.201677  Simple Twist of Fate, A (1994)\n",
       "2      450         4.201677              With Honors (1994)\n",
       "3      289         4.183177                 Only You (1994)\n",
       "4      249         4.165989         Immortal Beloved (1994)"
      ]
     },
     "execution_count": 12,
     "metadata": {},
     "output_type": "execute_result"
    }
   ],
   "source": [
    "final_recommendation_df.merge(movie[[\"movieId\", \"title\"]])[:5]"
   ]
  },
  {
   "cell_type": "code",
   "execution_count": null,
   "metadata": {},
   "outputs": [],
   "source": []
  },
  {
   "cell_type": "code",
   "execution_count": null,
   "metadata": {},
   "outputs": [],
   "source": []
  },
  {
   "cell_type": "code",
   "execution_count": null,
   "metadata": {},
   "outputs": [],
   "source": []
  },
  {
   "cell_type": "code",
   "execution_count": 13,
   "metadata": {},
   "outputs": [
    {
     "data": {
      "text/plain": [
       "593"
      ]
     },
     "execution_count": 13,
     "metadata": {},
     "output_type": "execute_result"
    }
   ],
   "source": [
    "recently_5rated_movie_id = rating[(rating['userId']==random_user)&(rating['rating']==5)].sort_values(by='timestamp', ascending=False)['movieId'].values[0]\n",
    "recently_5rated_movie_id"
   ]
  },
  {
   "cell_type": "code",
   "execution_count": 14,
   "metadata": {},
   "outputs": [
    {
     "data": {
      "text/plain": [
       "'Silence of the Lambs, The (1991)'"
      ]
     },
     "execution_count": 14,
     "metadata": {},
     "output_type": "execute_result"
    }
   ],
   "source": [
    "recently_5rated_movie_title= df2[df2['movieId']==recently_5rated_movie_id]['title'].values[0]\n",
    "recently_5rated_movie_title"
   ]
  },
  {
   "cell_type": "code",
   "execution_count": 15,
   "metadata": {},
   "outputs": [
    {
     "data": {
      "text/plain": [
       "userId\n",
       "1         3.5\n",
       "2         NaN\n",
       "3         5.0\n",
       "4         NaN\n",
       "5         3.0\n",
       "         ... \n",
       "138489    4.0\n",
       "138490    5.0\n",
       "138491    NaN\n",
       "138492    NaN\n",
       "138493    NaN\n",
       "Name: Silence of the Lambs, The (1991), Length: 138493, dtype: float64"
      ]
     },
     "execution_count": 15,
     "metadata": {},
     "output_type": "execute_result"
    }
   ],
   "source": [
    "user_movie_df_filtered = pt[recently_5rated_movie_title]\n",
    "user_movie_df_filtered"
   ]
  },
  {
   "cell_type": "code",
   "execution_count": null,
   "metadata": {},
   "outputs": [],
   "source": []
  }
 ],
 "metadata": {
  "kernelspec": {
   "display_name": "base",
   "language": "python",
   "name": "python3"
  },
  "language_info": {
   "codemirror_mode": {
    "name": "ipython",
    "version": 3
   },
   "file_extension": ".py",
   "mimetype": "text/x-python",
   "name": "python",
   "nbconvert_exporter": "python",
   "pygments_lexer": "ipython3",
   "version": "3.9.13"
  },
  "orig_nbformat": 4,
  "vscode": {
   "interpreter": {
    "hash": "90f342a227683bac829c614020c5499b502bab362c4a52b245891b2789e96021"
   }
  }
 },
 "nbformat": 4,
 "nbformat_minor": 2
}
